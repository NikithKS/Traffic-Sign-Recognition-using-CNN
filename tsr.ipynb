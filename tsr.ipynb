{
 "cells": [
  {
   "cell_type": "code",
   "execution_count": 2,
   "metadata": {},
   "outputs": [
    {
     "name": "stdout",
     "output_type": "stream",
     "text": [
      "Completed\n"
     ]
    }
   ],
   "source": [
    "import numpy as np\n",
    "import matplotlib.pyplot as plt\n",
    "from PIL import Image\n",
    "import os\n",
    "from sklearn.model_selection import train_test_split\n",
    "from keras.utils import to_categorical\n",
    "from keras.models import Sequential, load_model\n",
    "from keras.layers import Conv2D, MaxPool2D, Dense, Flatten, Dropout\n",
    "\n",
    "\n",
    "data=[]\n",
    "labels=[]\n",
    "sets=36\n",
    "cur_path=os.getcwd()\n",
    "print(\"Completed\")"
   ]
  },
  {
   "cell_type": "code",
   "execution_count": 3,
   "metadata": {},
   "outputs": [
    {
     "name": "stdout",
     "output_type": "stream",
     "text": [
      "0 1 2 3 4 5 6 7 8 9 10 11 12 13 14 15 16 17 18 19 20 21 22 23 24 25 26 27 28 29 30 31 32 33 34 35 \n",
      " (33906, 30, 30, 3) (33906,)\n"
     ]
    }
   ],
   "source": [
    "for i in range(sets):\n",
    "    path=os.path.join(cur_path,\"Training\",str(i))\n",
    "    images=os.listdir(path)\n",
    "    print(str(i),end=\" \")\n",
    "    for file_name in images:\n",
    "        try:\n",
    "            image= Image.open(path+ \"/\" +file_name)\n",
    "            image=image.resize((30,30))\n",
    "            image= np.array(image)\n",
    "            data.append(image)\n",
    "            labels.append(i)\n",
    "        \n",
    "        except Exception as e:\n",
    "            print(\"Error loading image:\"+file_name+\"\\n\"+e)\n",
    "            break\n",
    "            \n",
    "                              \n",
    "data=np.array(data)\n",
    "labels=np.array(labels)\n",
    "\n",
    "print(\"\\n\",data.shape, labels.shape)"
   ]
  },
  {
   "cell_type": "code",
   "execution_count": 4,
   "metadata": {},
   "outputs": [
    {
     "name": "stdout",
     "output_type": "stream",
     "text": [
      "(27124, 30, 30, 3) (27124,) (6782, 30, 30, 3) (6782,)\n",
      "3\n",
      "[0. 0. 0. 1. 0. 0. 0. 0. 0. 0. 0. 0. 0. 0. 0. 0. 0. 0. 0. 0. 0. 0. 0. 0.\n",
      " 0. 0. 0. 0. 0. 0. 0. 0. 0. 0. 0. 0.]\n"
     ]
    },
    {
     "data": {
      "text/plain": [
       "<matplotlib.image.AxesImage at 0x7f2a744b0da0>"
      ]
     },
     "execution_count": 4,
     "metadata": {},
     "output_type": "execute_result"
    },
    {
     "data": {
      "image/png": "[encoded data removed]",
      "text/plain": [
       "<Figure size 432x288 with 1 Axes>"
      ]
     },
     "metadata": {
      "needs_background": "light"
     },
     "output_type": "display_data"
    }
   ],
   "source": [
    "x_train, x_test, y_train, y_test = train_test_split(data, labels, test_size=0.2, random_state=35)\n",
    "y_test2=y_test\n",
    "print(x_train.shape,y_train.shape,x_test.shape,y_test.shape)\n",
    "print(y_test[9])\n",
    "\n",
    "y_train=to_categorical(y_train,36)\n",
    "y_test=to_categorical(y_test,36)\n",
    "\n",
    "print(y_test[9])\n",
    "plt.imshow(x_test[9])"
   ]
  },
  {
   "cell_type": "code",
   "execution_count": 17,
   "metadata": {
    "scrolled": false
   },
   "outputs": [
    {
     "name": "stdout",
     "output_type": "stream",
     "text": [
      "Compiled\n"
     ]
    }
   ],
   "source": [
    "model=Sequential()\n",
    "shape=x_train.shape[1:]\n",
    "model.add(Conv2D(filters=32, kernel_size=(5,5), activation='relu', input_shape=shape))\n",
    "model.add(Conv2D(filters=32, kernel_size=(5,5), activation='relu'))\n",
    "\n",
    "model.add(MaxPool2D(pool_size=(2, 2)))\n",
    "model.add(Dropout(rate=0.25))\n",
    "\n",
    "model.add(Conv2D(filters=64, kernel_size=(3, 3), activation='relu'))\n",
    "model.add(Conv2D(filters=64, kernel_size=(3, 3), activation='relu'))\n",
    "\n",
    "model.add(MaxPool2D(pool_size=(2, 2)))\n",
    "model.add(Dropout(rate=0.25))\n",
    "\n",
    "model.add(Flatten())\n",
    "model.add(Dense(256, activation='relu'))\n",
    "model.add(Dropout(rate=0.5))\n",
    "model.add(Dense(36, activation='softmax'))\n",
    "\n",
    "model.compile(loss='categorical_crossentropy', optimizer='adam', metrics=['accuracy'])\n",
    "print(\"Compiled\")"
   ]
  },
  {
   "cell_type": "code",
   "execution_count": 18,
   "metadata": {
    "scrolled": false
   },
   "outputs": [
    {
     "name": "stdout",
     "output_type": "stream",
     "text": [
      "Train on 27124 samples, validate on 6782 samples\n",
      "Epoch 1/15\n",
      "27124/27124 [==============================] - 131s 5ms/step - loss: 2.5396 - accuracy: 0.3356 - val_loss: 0.7809 - val_accuracy: 0.7946\n",
      "Epoch 2/15\n",
      "27124/27124 [==============================] - 133s 5ms/step - loss: 0.9028 - accuracy: 0.7323 - val_loss: 0.2855 - val_accuracy: 0.9297\n",
      "Epoch 3/15\n",
      "27124/27124 [==============================] - 136s 5ms/step - loss: 0.5219 - accuracy: 0.8471 - val_loss: 0.1640 - val_accuracy: 0.9602\n",
      "Epoch 4/15\n",
      "27124/27124 [==============================] - 136s 5ms/step - loss: 0.3833 - accuracy: 0.8899 - val_loss: 0.1883 - val_accuracy: 0.9474\n",
      "Epoch 5/15\n",
      "27124/27124 [==============================] - 139s 5ms/step - loss: 0.3322 - accuracy: 0.9043 - val_loss: 0.0964 - val_accuracy: 0.9757\n",
      "Epoch 6/15\n",
      "27124/27124 [==============================] - 138s 5ms/step - loss: 0.2926 - accuracy: 0.9170 - val_loss: 0.1452 - val_accuracy: 0.9583\n",
      "Epoch 7/15\n",
      "27124/27124 [==============================] - 137s 5ms/step - loss: 0.3008 - accuracy: 0.9184 - val_loss: 0.0748 - val_accuracy: 0.9785\n",
      "Epoch 8/15\n",
      "27124/27124 [==============================] - 135s 5ms/step - loss: 0.2617 - accuracy: 0.9276 - val_loss: 0.0465 - val_accuracy: 0.9892\n",
      "Epoch 9/15\n",
      "27124/27124 [==============================] - 135s 5ms/step - loss: 0.2459 - accuracy: 0.9328 - val_loss: 0.0689 - val_accuracy: 0.9783\n",
      "Epoch 10/15\n",
      "27124/27124 [==============================] - 135s 5ms/step - loss: 0.2345 - accuracy: 0.9355 - val_loss: 0.0645 - val_accuracy: 0.9825\n",
      "Epoch 11/15\n",
      "27124/27124 [==============================] - 135s 5ms/step - loss: 0.2602 - accuracy: 0.9335 - val_loss: 0.0977 - val_accuracy: 0.9684\n",
      "Epoch 12/15\n",
      "27124/27124 [==============================] - 135s 5ms/step - loss: 0.2231 - accuracy: 0.9410 - val_loss: 0.0418 - val_accuracy: 0.9869\n",
      "Epoch 13/15\n",
      "27124/27124 [==============================] - 135s 5ms/step - loss: 0.2399 - accuracy: 0.9419 - val_loss: 0.0350 - val_accuracy: 0.9910\n",
      "Epoch 14/15\n",
      "27124/27124 [==============================] - 135s 5ms/step - loss: 0.2354 - accuracy: 0.9425 - val_loss: 0.0523 - val_accuracy: 0.9879\n",
      "Epoch 15/15\n",
      "27124/27124 [==============================] - 135s 5ms/step - loss: 0.2058 - accuracy: 0.9496 - val_loss: 0.0330 - val_accuracy: 0.9888\n"
     ]
    }
   ],
   "source": [
    "history=model.fit(x_train, y_train, batch_size=32, epochs=15, validation_data=(x_test, y_test))\n",
    "model.save(\"tsr.h5\")"
   ]
  },
  {
   "cell_type": "code",
   "execution_count": 10,
   "metadata": {
    "scrolled": false
   },
   "outputs": [
    {
     "name": "stdout",
     "output_type": "stream",
     "text": [
      "0 => 1.0\n",
      "1 => 1.0\n",
      "2 => 0.9970238095238095\n",
      "3 => 0.9794776119402985\n",
      "4 => 0.9813307802776448\n",
      "5 => 0.9763289036544851\n",
      "6 => 0.9645390070921985\n",
      "7 => 0.9976275207591934\n",
      "8 => 1.0\n",
      "9 => 1.0\n",
      "10 => 0.9924098671726755\n",
      "11 => 0.986648865153538\n",
      "12 => 0.9974811083123426\n",
      "13 => 0.9782067247820673\n",
      "14 => 0.9864661654135338\n",
      "15 => 0.9973045822102425\n",
      "16 => 0.9975\n",
      "17 => 0.9781950333131435\n",
      "18 => 1.0\n",
      "19 => 0.9964726631393298\n",
      "20 => 0.9981343283582089\n",
      "21 => 0.9743589743589743\n",
      "22 => 0.9910313901345291\n",
      "23 => 0.9977777777777778\n",
      "24 => 0.9956204379562044\n",
      "25 => 1.0\n",
      "26 => 0.9917920656634747\n",
      "27 => 1.0\n",
      "28 => 0.9943899018232819\n",
      "29 => 0.9917898193760263\n",
      "30 => 0.9755600814663951\n",
      "31 => 0.9915966386554622\n",
      "32 => 1.0\n",
      "33 => 0.9895833333333334\n",
      "34 => 0.9802331474911302\n",
      "35 => 0.9312039312039312\n",
      "0.9876717985017401\n"
     ]
    }
   ],
   "source": [
    "loaded=load_model('tsr.h5')\n",
    "\n",
    "right=0\n",
    "tot=0\n",
    "for i in range(sets):\n",
    "    data=[]\n",
    "    fold_right=0\n",
    "    fold_total=0\n",
    "    path=os.path.join(cur_path,\"Training\",str(i))\n",
    "    images=os.listdir(path)\n",
    "    for img in images:\n",
    "        image= Image.open(path+ \"/\" +img)\n",
    "        image=image.resize((30,30))\n",
    "        image= np.array(image)\n",
    "        data.append(image)\n",
    "    data=np.array(data)\n",
    "    pred=loaded.predict_classes(data)\n",
    "    for j in pred:\n",
    "        tot+=1\n",
    "        fold_total+=1\n",
    "        if(j==i):\n",
    "            fold_right+=1\n",
    "            right+=1\n",
    "    print(i,\"=>\",fold_right/fold_total)\n",
    "print(right/tot)"
   ]
  },
  {
   "cell_type": "code",
   "execution_count": 8,
   "metadata": {},
   "outputs": [
    {
     "data": {
      "text/plain": [
       "<matplotlib.legend.Legend at 0x7f2a743baa90>"
      ]
     },
     "execution_count": 8,
     "metadata": {},
     "output_type": "execute_result"
    },
    {
     "data": {
      "image/png": "[encoded data removed]",
      "text/plain": [
       "<Figure size 432x288 with 1 Axes>"
      ]
     },
     "metadata": {
      "needs_background": "light"
     },
     "output_type": "display_data"
    }
   ],
   "source": [
    "plt.figure()\n",
    "plt.title('Accuracy')\n",
    "plt.xlabel('epochs')\n",
    "plt.ylabel('accuracy')\n",
    "plt.plot(history.history['accuracy'],label='training accuracy')\n",
    "plt.plot(history.history['val_accuracy'],label='val accuracy')\n",
    "plt.legend()"
   ]
  },
  {
   "cell_type": "code",
   "execution_count": 9,
   "metadata": {},
   "outputs": [
    {
     "data": {
      "text/plain": [
       "<matplotlib.legend.Legend at 0x7f2a74336cc0>"
      ]
     },
     "execution_count": 9,
     "metadata": {},
     "output_type": "execute_result"
    },
    {
     "data": {
      "image/png": "[encoded data removed]",
      "text/plain": [
       "<Figure size 432x288 with 1 Axes>"
      ]
     },
     "metadata": {
      "needs_background": "light"
     },
     "output_type": "display_data"
    }
   ],
   "source": [
    "plt.figure()\n",
    "plt.title('Loss')\n",
    "plt.xlabel('epochs')\n",
    "plt.ylabel('loss')\n",
    "plt.plot(history.history['loss'],label='training loss')\n",
    "plt.plot(history.history['val_loss'],label='val loss')\n",
    "plt.legend()"
   ]
  }
 ],
 "metadata": {
  "kernelspec": {
   "display_name": "Python 3",
   "language": "python",
   "name": "python3"
  },
  "language_info": {
   "codemirror_mode": {
    "name": "ipython",
    "version": 3
   },
   "file_extension": ".py",
   "mimetype": "text/x-python",
   "name": "python",
   "nbconvert_exporter": "python",
   "pygments_lexer": "ipython3",
   "version": "3.6.9"
  }
 },
 "nbformat": 4,
 "nbformat_minor": 4
}
